{
  "nbformat": 4,
  "nbformat_minor": 0,
  "metadata": {
    "colab": {
      "provenance": [],
      "authorship_tag": "ABX9TyNSVIBE0ZM/882MgS9cgnr1"
    },
    "kernelspec": {
      "name": "python3",
      "display_name": "Python 3"
    },
    "language_info": {
      "name": "python"
    }
  },
  "cells": [
    {
      "cell_type": "markdown",
      "source": [
        "EfficientNetV2 is pretrained on Imagenet-21k and fine-tuned on Imagenet-1k. We can use it as a feature extractor by removing the classification head."
      ],
      "metadata": {
        "id": "xEvIpLQB1E3N"
      }
    },
    {
      "cell_type": "code",
      "source": [
        "import os"
      ],
      "metadata": {
        "id": "gFFg3kqFEqyU"
      },
      "execution_count": null,
      "outputs": []
    },
    {
      "cell_type": "code",
      "execution_count": null,
      "metadata": {
        "colab": {
          "base_uri": "https://localhost:8080/"
        },
        "id": "ns_MWB6q0sg5",
        "outputId": "902e69ad-2144-4d39-851e-144d4758b694"
      },
      "outputs": [
        {
          "output_type": "stream",
          "name": "stdout",
          "text": [
            "Image embeddings saved!\n"
          ]
        }
      ],
      "source": [
        "import numpy as np\n",
        "from tensorflow.keras.applications import EfficientNetV2B3\n",
        "from tensorflow.keras.layers import GlobalAveragePooling2D\n",
        "from tensorflow.keras.preprocessing import image\n",
        "\n",
        "img_path = '/content/sample_data/Ap1.jpeg'\n",
        "img = image.load_img(img_path, target_size=(224, 224))\n",
        "x = image.img_to_array(img)\n",
        "x = np.expand_dims(x, axis=0)\n",
        "img_name = os.path.splitext(os.path.basename(img_path))[0]\n",
        "\n",
        "\n",
        "\n",
        "model = EfficientNetV2B3(weights='imagenet', include_top=False)\n",
        "\n",
        "features = model(x)\n",
        "\n",
        "# Generate embeddings with global pooling\n",
        "embeddings = GlobalAveragePooling2D()(features)\n",
        "\n",
        "output_path = f'{img_name}EffNet.npy'\n",
        "np.save(output_path, embeddings)\n",
        "\n",
        "print('Image embeddings saved!')"
      ]
    }
  ]
}